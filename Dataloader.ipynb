{
 "cells": [
  {
   "cell_type": "code",
   "execution_count": 2,
   "metadata": {},
   "outputs": [],
   "source": [
    "import torch\n",
    "import tiktoken"
   ]
  },
  {
   "cell_type": "code",
   "execution_count": 3,
   "metadata": {},
   "outputs": [],
   "source": [
    "# creating dataset\n",
    "from torch.utils.data import Dataset, DataLoader\n",
    "\n",
    "class DatasetV1(Dataset):\n",
    "    def __init__(self, text, tokenizer, max_length, stride):\n",
    "        self.input_ids = []\n",
    "        self.target_ids = []\n",
    "\n",
    "        token_ids = tokenizer.encode(text, allowed_special={\"<|endoftext|>\"})\n",
    "\n",
    "        # Use a sliding window to chunk the book into overlapping sequences of max_length\n",
    "        for i in range(0, len(token_ids) - max_length, stride):\n",
    "            input_chunk = token_ids[i:i + max_length]\n",
    "            target_chunk = token_ids[i + 1: i + max_length + 1]\n",
    "            self.input_ids.append(torch.tensor(input_chunk))\n",
    "            self.target_ids.append(torch.tensor(target_chunk))\n",
    "\n",
    "    def __len__(self):\n",
    "        return len(self.input_ids)\n",
    "\n",
    "    def __getitem__(self, idx):\n",
    "        return self.input_ids[idx], self.target_ids[idx]"
   ]
  },
  {
   "cell_type": "code",
   "execution_count": 4,
   "metadata": {},
   "outputs": [],
   "source": [
    "def data_loader(text, batch_size, max_length,\n",
    "                  stride, shuffle, drop_last=True,\n",
    "                  num_workers=0):\n",
    "    \n",
    "    tokenizer = tiktoken.get_encoding('gpt2')\n",
    "\n",
    "    dataset = DatasetV1(text, tokenizer, max_length, stride)\n",
    "\n",
    "    dataloader = DataLoader(\n",
    "        dataset,\n",
    "        batch_size=batch_size,\n",
    "        shuffle=shuffle,\n",
    "        drop_last=drop_last,\n",
    "        num_workers=num_workers\n",
    "    )\n",
    "\n",
    "    return dataloader"
   ]
  },
  {
   "cell_type": "code",
   "execution_count": 5,
   "metadata": {},
   "outputs": [
    {
     "name": "stdout",
     "output_type": "stream",
     "text": [
      "64127\n"
     ]
    }
   ],
   "source": [
    "import PyPDF2\n",
    "\n",
    "with open(\"Employee-Handbook.pdf\", \"rb\") as pdf_file:\n",
    "    pdf_reader = PyPDF2.PdfReader(pdf_file)\n",
    "    text = \"\"\n",
    "    for page_num in range(len(pdf_reader.pages)):\n",
    "        page = pdf_reader.pages[page_num]\n",
    "        text += page.extract_text()\n",
    "\n",
    "print(len(text))"
   ]
  },
  {
   "cell_type": "code",
   "execution_count": 6,
   "metadata": {},
   "outputs": [
    {
     "name": "stdout",
     "output_type": "stream",
     "text": [
      "[tensor([[  220,   198, 36824,   220]]), tensor([[  198, 36824,   220, 30579]])]\n"
     ]
    }
   ],
   "source": [
    "dataloader = data_loader(text, batch_size=1, max_length=4, stride=1, shuffle=False)\n",
    "\n",
    "data_iter = iter(dataloader)\n",
    "first_batch = next(data_iter)\n",
    "print(first_batch)"
   ]
  },
  {
   "cell_type": "code",
   "execution_count": 7,
   "metadata": {},
   "outputs": [
    {
     "name": "stdout",
     "output_type": "stream",
     "text": [
      "[tensor([[  198, 36824,   220, 30579]]), tensor([[36824,   220, 30579,   220]])]\n"
     ]
    }
   ],
   "source": [
    "second_batch = next(data_iter)\n",
    "print(second_batch)"
   ]
  },
  {
   "cell_type": "code",
   "execution_count": 8,
   "metadata": {},
   "outputs": [
    {
     "name": "stdout",
     "output_type": "stream",
     "text": [
      "[tensor([[  220,   198, 36824,   220, 30579],\n",
      "        [  198, 36824,   220, 30579,   220],\n",
      "        [36824,   220, 30579,   220,   220],\n",
      "        [  220, 30579,   220,   220,   198],\n",
      "        [30579,   220,   220,   198, 14618],\n",
      "        [  220,   220,   198, 14618,   220],\n",
      "        [  220,   198, 14618,   220,   604],\n",
      "        [  198, 14618,   220,   604,   220]]), tensor([[  198, 36824,   220, 30579,   220],\n",
      "        [36824,   220, 30579,   220,   220],\n",
      "        [  220, 30579,   220,   220,   198],\n",
      "        [30579,   220,   220,   198, 14618],\n",
      "        [  220,   220,   198, 14618,   220],\n",
      "        [  220,   198, 14618,   220,   604],\n",
      "        [  198, 14618,   220,   604,   220],\n",
      "        [14618,   220,   604,   220,   198]])]\n"
     ]
    }
   ],
   "source": [
    "dataloader = data_loader(text, batch_size=8, max_length=5, stride=1, shuffle=False)\n",
    "\n",
    "data = iter(dataloader)\n",
    "third_batch = next(data)\n",
    "print(third_batch)"
   ]
  },
  {
   "cell_type": "markdown",
   "metadata": {},
   "source": [
    "# Position Embedding"
   ]
  },
  {
   "cell_type": "code",
   "execution_count": null,
   "metadata": {},
   "outputs": [],
   "source": [
    "#creating embedding layer of vocab_size = 50257 - size of GPT2 and vector_dim = 256\n",
    "#this embedding layer is trainable - embedding values are learned duing training\n",
    "vocab_size = 50257\n",
    "vec_dim = 256\n",
    "\n",
    "embeddings = torch.nn.Embedding(vocab_size,vec_dim)"
   ]
  },
  {
   "cell_type": "code",
   "execution_count": 21,
   "metadata": {},
   "outputs": [],
   "source": [
    "max_length = 4\n",
    "dataloader = data_loader(text, batch_size=8, max_length=max_length, stride=max_length, shuffle=False)\n",
    "\n",
    "first_batch = iter(dataloader)\n",
    "input, targets = next(first_batch)"
   ]
  },
  {
   "cell_type": "code",
   "execution_count": 22,
   "metadata": {},
   "outputs": [
    {
     "name": "stdout",
     "output_type": "stream",
     "text": [
      "tensor([[  220,   198, 36824,   220],\n",
      "        [30579,   220,   220,   198],\n",
      "        [14618,   220,   604,   220],\n",
      "        [  198, 20570,   220,   284],\n",
      "        [  760,   220,   674,  1664],\n",
      "        [  220,   604,   220,   198],\n",
      "        [29733,   434,   220, 19165],\n",
      "        [  220,   642,   220,   198]])\n",
      "torch.Size([8, 4])\n"
     ]
    }
   ],
   "source": [
    "print(input)\n",
    "print(input.shape)"
   ]
  },
  {
   "cell_type": "code",
   "execution_count": 23,
   "metadata": {},
   "outputs": [
    {
     "name": "stdout",
     "output_type": "stream",
     "text": [
      "torch.Size([8, 4, 256])\n"
     ]
    }
   ],
   "source": [
    "final_embedding = embeddings(input)\n",
    "print(final_embedding.shape)"
   ]
  },
  {
   "cell_type": "code",
   "execution_count": 24,
   "metadata": {},
   "outputs": [],
   "source": [
    "#positional embedding\n",
    "context_length = 4\n",
    "pos_embedding_layer = torch.nn.Embedding(context_length,vec_dim)"
   ]
  },
  {
   "cell_type": "code",
   "execution_count": 26,
   "metadata": {},
   "outputs": [
    {
     "name": "stdout",
     "output_type": "stream",
     "text": [
      "torch.Size([4, 256])\n"
     ]
    }
   ],
   "source": [
    "pos_embedding = pos_embedding_layer(torch.arange(max_length))\n",
    "print(pos_embedding.shape)"
   ]
  },
  {
   "cell_type": "code",
   "execution_count": 27,
   "metadata": {},
   "outputs": [
    {
     "name": "stdout",
     "output_type": "stream",
     "text": [
      "torch.Size([8, 4, 256])\n"
     ]
    }
   ],
   "source": [
    "input_embeddings = final_embedding + pos_embedding\n",
    "print(input_embeddings.shape)"
   ]
  },
  {
   "cell_type": "code",
   "execution_count": null,
   "metadata": {},
   "outputs": [],
   "source": []
  }
 ],
 "metadata": {
  "kernelspec": {
   "display_name": "Python 3",
   "language": "python",
   "name": "python3"
  },
  "language_info": {
   "codemirror_mode": {
    "name": "ipython",
    "version": 3
   },
   "file_extension": ".py",
   "mimetype": "text/x-python",
   "name": "python",
   "nbconvert_exporter": "python",
   "pygments_lexer": "ipython3",
   "version": "3.11.0"
  }
 },
 "nbformat": 4,
 "nbformat_minor": 2
}

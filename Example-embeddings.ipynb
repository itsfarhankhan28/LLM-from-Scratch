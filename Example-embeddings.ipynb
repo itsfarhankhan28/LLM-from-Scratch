{
 "cells": [
  {
   "cell_type": "code",
   "execution_count": 1,
   "metadata": {},
   "outputs": [],
   "source": [
    "import torch"
   ]
  },
  {
   "cell_type": "code",
   "execution_count": 6,
   "metadata": {},
   "outputs": [
    {
     "name": "stdout",
     "output_type": "stream",
     "text": [
      "Parameter containing:\n",
      "tensor([[-0.9262, -0.6386,  0.4855],\n",
      "        [ 1.2537,  0.7409,  0.2129],\n",
      "        [-1.0815, -0.0825, -0.2278],\n",
      "        [ 0.3499, -0.1063, -0.3014],\n",
      "        [-0.6696,  0.2846,  1.0222]], requires_grad=True)\n"
     ]
    }
   ],
   "source": [
    "vocab_size = 5\n",
    "vector_dim = 3\n",
    "\n",
    "embedding = torch.nn.Embedding(vocab_size,vector_dim)\n",
    "print(embedding.weight)"
   ]
  },
  {
   "cell_type": "code",
   "execution_count": 5,
   "metadata": {},
   "outputs": [],
   "source": [
    "ids = torch.tensor((2,3,4))"
   ]
  },
  {
   "cell_type": "code",
   "execution_count": 8,
   "metadata": {},
   "outputs": [
    {
     "name": "stdout",
     "output_type": "stream",
     "text": [
      "tensor([[-1.0815, -0.0825, -0.2278],\n",
      "        [ 0.3499, -0.1063, -0.3014],\n",
      "        [-0.6696,  0.2846,  1.0222]], grad_fn=<EmbeddingBackward0>)\n"
     ]
    }
   ],
   "source": [
    "print(embedding(ids))"
   ]
  },
  {
   "cell_type": "code",
   "execution_count": null,
   "metadata": {},
   "outputs": [],
   "source": []
  }
 ],
 "metadata": {
  "kernelspec": {
   "display_name": "Python 3",
   "language": "python",
   "name": "python3"
  },
  "language_info": {
   "codemirror_mode": {
    "name": "ipython",
    "version": 3
   },
   "file_extension": ".py",
   "mimetype": "text/x-python",
   "name": "python",
   "nbconvert_exporter": "python",
   "pygments_lexer": "ipython3",
   "version": "3.11.0"
  }
 },
 "nbformat": 4,
 "nbformat_minor": 2
}
